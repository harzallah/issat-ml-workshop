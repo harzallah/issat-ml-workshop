{
 "cells": [
  {
   "cell_type": "code",
   "execution_count": 2,
   "metadata": {},
   "outputs": [
    {
     "name": "stderr",
     "output_type": "stream",
     "text": [
      "Using TensorFlow backend.\n"
     ]
    }
   ],
   "source": [
    "from __future__ import print_function\n",
    "import keras\n",
    "from keras.datasets import mnist, fashion_mnist\n",
    "from keras.models import Sequential\n",
    "from keras.layers import Dense, Dropout, Flatten\n",
    "from keras.layers import Conv2D, MaxPooling2D\n",
    "from keras import backend as K\n",
    "\n",
    "import numpy as np\n",
    "import random\n",
    "import matplotlib.pyplot as plt"
   ]
  },
  {
   "cell_type": "code",
   "execution_count": 3,
   "metadata": {},
   "outputs": [
    {
     "name": "stdout",
     "output_type": "stream",
     "text": [
      "x_train shape: (60000, 28, 28, 1)\n",
      "60000 train samples\n",
      "10000 test samples\n"
     ]
    }
   ],
   "source": [
    "num_classes = 10\n",
    "# input image dimensions\n",
    "img_rows, img_cols = 28, 28\n",
    "\n",
    "# the data, split between train and test sets\n",
    "(x_train, y_train), (x_test, y_test) = mnist.load_data()\n",
    "\n",
    "if K.image_data_format() == 'channels_first':\n",
    "    x_train = x_train.reshape(x_train.shape[0], 1, img_rows, img_cols)\n",
    "    x_test = x_test.reshape(x_test.shape[0], 1, img_rows, img_cols)\n",
    "    input_shape = (1, img_rows, img_cols)\n",
    "else:\n",
    "    x_train = x_train.reshape(x_train.shape[0], img_rows, img_cols, 1)\n",
    "    x_test = x_test.reshape(x_test.shape[0], img_rows, img_cols, 1)\n",
    "    input_shape = (img_rows, img_cols, 1)\n",
    "\n",
    "x_train = x_train.astype('float32')\n",
    "x_test = x_test.astype('float32')\n",
    "x_train /= 255\n",
    "x_test /= 255\n",
    "print('x_train shape:', x_train.shape)\n",
    "print(x_train.shape[0], 'train samples')\n",
    "print(x_test.shape[0], 'test samples')\n",
    "\n",
    "# convert class vectors to binary class matrices\n",
    "y_train = keras.utils.to_categorical(y_train, num_classes)\n",
    "y_test = keras.utils.to_categorical(y_test, num_classes)"
   ]
  },
  {
   "cell_type": "markdown",
   "metadata": {},
   "source": [
    "Samples of the MNIST dataset"
   ]
  },
  {
   "cell_type": "code",
   "execution_count": null,
   "metadata": {},
   "outputs": [],
   "source": [
    "randidx = [random.randrange(1, len(x_train), 1) for _ in range(10)]\n",
    "\n",
    "for i in range(len(randidx)):\n",
    "    plt.title(\"Predicted : \" + str(x_test[i]) )\n",
    "    plt.imshow(img, cmap='gray')\n",
    "    plt.show()"
   ]
  },
  {
   "cell_type": "markdown",
   "metadata": {},
   "source": [
    "Now we will declare and train our NN model"
   ]
  },
  {
   "cell_type": "code",
   "execution_count": 4,
   "metadata": {},
   "outputs": [
    {
     "name": "stdout",
     "output_type": "stream",
     "text": [
      "Train on 60000 samples, validate on 10000 samples\n",
      "Epoch 1/2\n",
      "60000/60000 [==============================] - 99s 2ms/step - loss: 0.2576 - acc: 0.9199 - val_loss: 0.0584 - val_acc: 0.9811\n",
      "Epoch 2/2\n",
      "60000/60000 [==============================] - 98s 2ms/step - loss: 0.0894 - acc: 0.9732 - val_loss: 0.0388 - val_acc: 0.9869\n",
      "Test loss: 0.03875672715202672\n",
      "Test accuracy: 0.9869\n"
     ]
    }
   ],
   "source": [
    "batch_size = 128\n",
    "epochs = 2\n",
    "\n",
    "model = Sequential()\n",
    "model.add(Conv2D(32, kernel_size=(3, 3),\n",
    "                 activation='relu',\n",
    "                 input_shape=input_shape))\n",
    "model.add(Conv2D(64, (3, 3), activation='relu'))\n",
    "model.add(MaxPooling2D(pool_size=(2, 2)))\n",
    "model.add(Dropout(0.25))\n",
    "model.add(Flatten())\n",
    "model.add(Dense(128, activation='relu'))\n",
    "model.add(Dropout(0.5))\n",
    "model.add(Dense(num_classes, activation='softmax'))\n",
    "\n",
    "model.compile(loss=keras.losses.categorical_crossentropy,\n",
    "              optimizer=keras.optimizers.Adadelta(),\n",
    "              metrics=['accuracy'])\n",
    "\n",
    "model.fit(x_train, y_train,\n",
    "          batch_size=batch_size,\n",
    "          epochs=epochs,\n",
    "          verbose=1,\n",
    "          validation_data=(x_test, y_test))\n",
    "score = model.evaluate(x_test, y_test, verbose=0)\n",
    "print('Test loss:', score[0])\n",
    "print('Test accuracy:', score[1])"
   ]
  },
  {
   "cell_type": "code",
   "execution_count": 5,
   "metadata": {},
   "outputs": [
    {
     "name": "stdout",
     "output_type": "stream",
     "text": [
      "x_train_fashion shape: (60000, 28, 28, 1)\n",
      "60000 train samples\n",
      "10000 test samples\n"
     ]
    }
   ],
   "source": [
    "(x_train_fashion, y_train_fashion), (x_test_fashion, y_test_fashion) = fashion_mnist.load_data()\n",
    "\n",
    "if K.image_data_format() == 'channels_first':\n",
    "    x_train_fashion = x_train_fashion.reshape(x_train_fashion.shape[0], 1, img_rows, img_cols)\n",
    "    x_test_fashion = x_test_fashion.reshape(x_test_fashion.shape[0], 1, img_rows, img_cols)\n",
    "    input_shape = (1, img_rows, img_cols)\n",
    "else:\n",
    "    x_train_fashion = x_train_fashion.reshape(x_train_fashion.shape[0], img_rows, img_cols, 1)\n",
    "    x_test_fashion = x_test_fashion.reshape(x_test_fashion.shape[0], img_rows, img_cols, 1)\n",
    "    input_shape = (img_rows, img_cols, 1)\n",
    "\n",
    "x_train_fashion = x_train_fashion.astype('float32')\n",
    "x_test_fashion = x_test_fashion.astype('float32')\n",
    "x_train_fashion /= 255\n",
    "x_test_fashion /= 255\n",
    "print('x_train_fashion shape:', x_train_fashion.shape)\n",
    "print(x_train_fashion.shape[0], 'train samples')\n",
    "print(x_test_fashion.shape[0], 'test samples')\n",
    "\n",
    "# convert class vectors to binary class matrices\n",
    "y_train_fashion = keras.utils.to_categorical(y_train_fashion, num_classes)\n",
    "y_test_fashion = keras.utils.to_categorical(y_test_fashion, num_classes)"
   ]
  },
  {
   "cell_type": "code",
   "execution_count": null,
   "metadata": {},
   "outputs": [
    {
     "name": "stdout",
     "output_type": "stream",
     "text": [
      "Train on 60000 samples, validate on 10000 samples\n",
      "Epoch 1/10\n",
      "45568/60000 [=====================>........] - ETA: 8s - loss: 0.5810 - acc: 0.8047"
     ]
    }
   ],
   "source": [
    "batch_size_fashion = 128\n",
    "epochs_fashion = 10\n",
    "\n",
    "model_fashion = Sequential()\n",
    "model_fashion.add(Conv2D(32, kernel_size=(3, 3),\n",
    "                 activation='relu',\n",
    "                 input_shape=input_shape))\n",
    "model_fashion.add(Conv2D(64, (3, 3), activation='relu'))\n",
    "model_fashion.add(MaxPooling2D(pool_size=(2, 2)))\n",
    "model_fashion.add(Dropout(0.25))\n",
    "model_fashion.add(Flatten())\n",
    "model_fashion.add(Dense(128, activation='relu'))\n",
    "model_fashion.add(Dropout(0.5))\n",
    "model_fashion.add(Dense(num_classes, activation='softmax'))\n",
    "\n",
    "model_fashion.set_weights(model.get_weights()) \n",
    "\n",
    "\n",
    "\n",
    "for layer in model_fashion.layers[:-3]:\n",
    "    layer.trainable = False\n",
    "    \n",
    "model_fashion.compile(loss=keras.losses.categorical_crossentropy,\n",
    "              optimizer=keras.optimizers.Adadelta(),\n",
    "              metrics=['accuracy'])\n",
    "\n",
    "model_fashion.fit(x_train_fashion, y_train_fashion,\n",
    "          batch_size=batch_size_fashion,\n",
    "          epochs=epochs_fashion,\n",
    "          verbose=1,\n",
    "          validation_data=(x_test_fashion, y_test_fashion)) \n",
    "\n",
    "score = model_fashion.evaluate(x_test_fashion, y_test_fashion, verbose=0)\n",
    "print('Test loss:', score[0])\n",
    "print('Test accuracy:', score[1])"
   ]
  },
  {
   "cell_type": "markdown",
   "metadata": {},
   "source": [
    "### Class Labels : \n",
    "|Description|T-shirt/top | Trouser | Pullover | Dress | Coat | Sandal | Shirt | Sneaker | Bag | Ankle |\n",
    "| -- | -- |  -- |  -- |  -- |  -- |  -- |  -- |  -- |  -- |  -- |\n",
    "|Label | 0 | 1 | 2 | 3 | 4 | 5 | 6 | 7 | 8 | 9 |\n"
   ]
  },
  {
   "cell_type": "code",
   "execution_count": null,
   "metadata": {},
   "outputs": [],
   "source": [
    "score = model_fashion.evaluate(x_test_fashion, y_test_fashion, verbose=0)\n",
    "print('Test loss:', score[0])\n",
    "print('Test accuracy:', score[1])\n",
    "\n",
    "randidx = [random.randrange(1, len(x_test), 1) for _ in range(10)]\n",
    "pred = model_fashion.predict(x_test_fashion[randidx])\n",
    "\n",
    "for i in range(len(randidx)):\n",
    "    idx = randidx[i]\n",
    "    img = x_test_fashion[idx].reshape( (28, 28) )\n",
    "    plt.title(\"Predicted : \" + str(np.argmax(pred[i])) )\n",
    "    plt.imshow(img, cmap='gray')\n",
    "    plt.show()"
   ]
  }
 ],
 "metadata": {
  "kernelspec": {
   "display_name": "Python 3",
   "language": "python",
   "name": "python3"
  },
  "language_info": {
   "codemirror_mode": {
    "name": "ipython",
    "version": 3
   },
   "file_extension": ".py",
   "mimetype": "text/x-python",
   "name": "python",
   "nbconvert_exporter": "python",
   "pygments_lexer": "ipython3",
   "version": "3.6.7"
  }
 },
 "nbformat": 4,
 "nbformat_minor": 1
}
